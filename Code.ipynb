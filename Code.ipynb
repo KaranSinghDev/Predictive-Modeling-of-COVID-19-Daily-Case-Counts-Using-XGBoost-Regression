{
 "cells": [
  {
   "cell_type": "code",
   "execution_count": 28,
   "metadata": {},
   "outputs": [
    {
     "name": "stdout",
     "output_type": "stream",
     "text": [
      "<class 'pandas.core.frame.DataFrame'>\n",
      "RangeIndex: 2700 entries, 0 to 2699\n",
      "Data columns (total 95 columns):\n",
      " #   Column                  Non-Null Count  Dtype  \n",
      "---  ------                  --------------  -----  \n",
      " 0   id                      2700 non-null   int64  \n",
      " 1   AL                      2700 non-null   float64\n",
      " 2   AK                      2700 non-null   float64\n",
      " 3   AZ                      2700 non-null   float64\n",
      " 4   AR                      2700 non-null   float64\n",
      " 5   CA                      2700 non-null   float64\n",
      " 6   CO                      2700 non-null   float64\n",
      " 7   CT                      2700 non-null   float64\n",
      " 8   FL                      2700 non-null   float64\n",
      " 9   GA                      2700 non-null   float64\n",
      " 10  ID                      2700 non-null   float64\n",
      " 11  IL                      2700 non-null   float64\n",
      " 12  IN                      2700 non-null   float64\n",
      " 13  IA                      2700 non-null   float64\n",
      " 14  KS                      2700 non-null   float64\n",
      " 15  KY                      2700 non-null   float64\n",
      " 16  LA                      2700 non-null   float64\n",
      " 17  MD                      2700 non-null   float64\n",
      " 18  MA                      2700 non-null   float64\n",
      " 19  MI                      2700 non-null   float64\n",
      " 20  MN                      2700 non-null   float64\n",
      " 21  MS                      2700 non-null   float64\n",
      " 22  MO                      2700 non-null   float64\n",
      " 23  NE                      2700 non-null   float64\n",
      " 24  NV                      2700 non-null   float64\n",
      " 25  NJ                      2700 non-null   float64\n",
      " 26  NM                      2700 non-null   float64\n",
      " 27  NY                      2700 non-null   float64\n",
      " 28  NC                      2700 non-null   float64\n",
      " 29  OH                      2700 non-null   float64\n",
      " 30  OK                      2700 non-null   float64\n",
      " 31  OR                      2700 non-null   float64\n",
      " 32  PA                      2700 non-null   float64\n",
      " 33  RI                      2700 non-null   float64\n",
      " 34  SC                      2700 non-null   float64\n",
      " 35  TX                      2700 non-null   float64\n",
      " 36  UT                      2700 non-null   float64\n",
      " 37  VA                      2700 non-null   float64\n",
      " 38  WA                      2700 non-null   float64\n",
      " 39  WV                      2700 non-null   float64\n",
      " 40  WI                      2700 non-null   float64\n",
      " 41  cli                     2700 non-null   float64\n",
      " 42  ili                     2700 non-null   float64\n",
      " 43  hh_cmnty_cli            2700 non-null   float64\n",
      " 44  nohh_cmnty_cli          2700 non-null   float64\n",
      " 45  wearing_mask            2700 non-null   float64\n",
      " 46  travel_outside_state    2700 non-null   float64\n",
      " 47  work_outside_home       2700 non-null   float64\n",
      " 48  shop                    2700 non-null   float64\n",
      " 49  restaurant              2700 non-null   float64\n",
      " 50  spent_time              2700 non-null   float64\n",
      " 51  large_event             2700 non-null   float64\n",
      " 52  public_transit          2700 non-null   float64\n",
      " 53  anxious                 2700 non-null   float64\n",
      " 54  depressed               2700 non-null   float64\n",
      " 55  felt_isolated           2700 non-null   float64\n",
      " 56  worried_become_ill      2700 non-null   float64\n",
      " 57  worried_finances        2700 non-null   float64\n",
      " 58  tested_positive         2700 non-null   float64\n",
      " 59  cli.1                   2700 non-null   float64\n",
      " 60  ili.1                   2700 non-null   float64\n",
      " 61  hh_cmnty_cli.1          2700 non-null   float64\n",
      " 62  nohh_cmnty_cli.1        2700 non-null   float64\n",
      " 63  wearing_mask.1          2700 non-null   float64\n",
      " 64  travel_outside_state.1  2700 non-null   float64\n",
      " 65  work_outside_home.1     2700 non-null   float64\n",
      " 66  shop.1                  2700 non-null   float64\n",
      " 67  restaurant.1            2700 non-null   float64\n",
      " 68  spent_time.1            2700 non-null   float64\n",
      " 69  large_event.1           2700 non-null   float64\n",
      " 70  public_transit.1        2700 non-null   float64\n",
      " 71  anxious.1               2700 non-null   float64\n",
      " 72  depressed.1             2700 non-null   float64\n",
      " 73  felt_isolated.1         2700 non-null   float64\n",
      " 74  worried_become_ill.1    2700 non-null   float64\n",
      " 75  worried_finances.1      2700 non-null   float64\n",
      " 76  tested_positive.1       2700 non-null   float64\n",
      " 77  cli.2                   2700 non-null   float64\n",
      " 78  ili.2                   2700 non-null   float64\n",
      " 79  hh_cmnty_cli.2          2700 non-null   float64\n",
      " 80  nohh_cmnty_cli.2        2700 non-null   float64\n",
      " 81  wearing_mask.2          2700 non-null   float64\n",
      " 82  travel_outside_state.2  2700 non-null   float64\n",
      " 83  work_outside_home.2     2700 non-null   float64\n",
      " 84  shop.2                  2700 non-null   float64\n",
      " 85  restaurant.2            2700 non-null   float64\n",
      " 86  spent_time.2            2700 non-null   float64\n",
      " 87  large_event.2           2700 non-null   float64\n",
      " 88  public_transit.2        2700 non-null   float64\n",
      " 89  anxious.2               2700 non-null   float64\n",
      " 90  depressed.2             2700 non-null   float64\n",
      " 91  felt_isolated.2         2700 non-null   float64\n",
      " 92  worried_become_ill.2    2700 non-null   float64\n",
      " 93  worried_finances.2      2700 non-null   float64\n",
      " 94  tested_positive.2       2700 non-null   float64\n",
      "dtypes: float64(94), int64(1)\n",
      "memory usage: 2.0 MB\n",
      "None\n"
     ]
    }
   ],
   "source": [
    "import pandas as pd\n",
    "from sklearn.model_selection import train_test_split,cross_val_score\n",
    "from sklearn.preprocessing import StandardScaler\n",
    "from xgboost import XGBRegressor\n",
    "from sklearn.metrics import mean_absolute_percentage_error\n",
    "import numpy as np\n",
    "# Load and Analysis of dataset\n",
    "train=pd.read_csv(r\"C:\\Users\\karan\\OneDrive\\Desktop\\Kaggle\\Community\\Covid-19 Prediction\\covid.train.csv\")\n",
    "test=pd.read_csv(r\"C:\\Users\\karan\\OneDrive\\Desktop\\Kaggle\\Community\\Covid-19 Prediction\\covid.test.csv\")\n",
    "\n",
    "print(train.info())"
   ]
  },
  {
   "cell_type": "code",
   "execution_count": 29,
   "metadata": {},
   "outputs": [
    {
     "name": "stdout",
     "output_type": "stream",
     "text": [
      "data pre proccessed\n"
     ]
    }
   ],
   "source": [
    "# Data Preprocessing \n",
    "X_train=train.drop(columns=['id','tested_positive'])\n",
    "Y_train=train['tested_positive']\n",
    "Test=test.drop(columns=['id'])\n",
    "Test=Test.reindex(columns=X_train.columns,fill_value=0)\n",
    "\n",
    "sc=StandardScaler()\n",
    "X_train=sc.fit_transform(X_train)\n",
    "Test=sc.fit_transform(Test)\n",
    "print(\"data pre proccessed\")\n"
   ]
  },
  {
   "cell_type": "code",
   "execution_count": 73,
   "metadata": {},
   "outputs": [
    {
     "name": "stdout",
     "output_type": "stream",
     "text": [
      "mape :0.018998240731834034\n",
      "cv mean : [0.9361293  0.91099751 0.94683622 0.97010591 0.93417139 0.78614441\n",
      " 0.95145078 0.9645912  0.94988637 0.95068715]\n"
     ]
    }
   ],
   "source": [
    "#Validate\n",
    "X_tr,X_val,Y_tr,Y_val=train_test_split(X_train,Y_train,test_size=0.0001,random_state=42)\n",
    "ml=XGBRegressor(objective='reg:squarederror',n_estimators=100,learning_rate=0.024,eval_metric='mae',device='cuda:0')\n",
    "ml.fit(X_tr,Y_tr)\n",
    "pred_val=ml.predict(X_val)\n",
    "er=mean_absolute_percentage_error(pred_val,Y_val)\n",
    "print(f\"mape :{er}\")\n",
    "cv=cross_val_score(ml,X_train,Y_train,cv=10)\n",
    "print(f\"cv mean : {cv}\")\n",
    "pred=ml.predict(Test)"
   ]
  },
  {
   "cell_type": "code",
   "execution_count": 74,
   "metadata": {},
   "outputs": [],
   "source": [
    "Sub=pd.DataFrame({\n",
    "    'id':test['id'],'tested_positive' : pred\n",
    "})\n",
    "Sub\t.to_csv(r\"C:\\Users\\karan\\OneDrive\\Desktop\\Kaggle\\Community\\Covid-19 Prediction\\sampleSubmission.csv\",index=False)"
   ]
  },
  {
   "cell_type": "code",
   "execution_count": null,
   "metadata": {},
   "outputs": [],
   "source": []
  }
 ],
 "metadata": {
  "kernelspec": {
   "display_name": "Python 3",
   "language": "python",
   "name": "python3"
  },
  "language_info": {
   "codemirror_mode": {
    "name": "ipython",
    "version": 3
   },
   "file_extension": ".py",
   "mimetype": "text/x-python",
   "name": "python",
   "nbconvert_exporter": "python",
   "pygments_lexer": "ipython3",
   "version": "3.11.9"
  }
 },
 "nbformat": 4,
 "nbformat_minor": 2
}
